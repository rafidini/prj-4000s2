{
 "cells": [
  {
   "cell_type": "code",
   "execution_count": 45,
   "id": "induced-advertiser",
   "metadata": {},
   "outputs": [],
   "source": [
    "import os\n",
    "import sys"
   ]
  },
  {
   "cell_type": "code",
   "execution_count": 46,
   "id": "separated-illness",
   "metadata": {},
   "outputs": [],
   "source": [
    "pink = os.getcwd().replace(\"notebooks python\",\"\")+\"pink/linux/bin\"\n",
    "!export pink"
   ]
  },
  {
   "cell_type": "code",
   "execution_count": null,
   "id": "ultimate-trading",
   "metadata": {},
   "outputs": [],
   "source": []
  }
 ],
 "metadata": {
  "kernelspec": {
   "display_name": "Python 3",
   "language": "python",
   "name": "python3"
  },
  "language_info": {
   "codemirror_mode": {
    "name": "ipython",
    "version": 3
   },
   "file_extension": ".py",
   "mimetype": "text/x-python",
   "name": "python",
   "nbconvert_exporter": "python",
   "pygments_lexer": "ipython3",
   "version": "3.7.3"
  }
 },
 "nbformat": 4,
 "nbformat_minor": 5
}
