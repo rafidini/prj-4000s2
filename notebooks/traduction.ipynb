{
 "cells": [
  {
   "cell_type": "markdown",
   "metadata": {},
   "source": [
    "# Traduction des textes japonais en anglais"
   ]
  },
  {
   "cell_type": "code",
   "execution_count": 1,
   "metadata": {},
   "outputs": [],
   "source": [
    "# Importations\n",
    "import pandas as pd\n",
    "from selenium import webdriver\n",
    "from selenium.webdriver.common.by import By\n",
    "from selenium.webdriver.support.ui import WebDriverWait\n",
    "from selenium.webdriver.support import expected_conditions as EC\n",
    "import numpy as np\n",
    "import time\n",
    "import os\n",
    "\n",
    "# Chargement des donneés\n",
    "train = pd.read_csv(\"data/X_train.csv\",usecols=['image_file_name','item_name','item_caption'])\n",
    "test = pd.read_csv(\"data/X_test.csv\",usecols=['image_file_name','item_name','item_caption'])"
   ]
  },
  {
   "cell_type": "markdown",
   "metadata": {},
   "source": [
    "## 1. Configuration de selenium"
   ]
  },
  {
   "cell_type": "code",
   "execution_count": 2,
   "metadata": {},
   "outputs": [],
   "source": [
    "# Dictionnaire associé à google traduction\n",
    "google={\n",
    "        # Traduction d'expressions\n",
    "        \"text\": { \"link\":\"https://translate.google.fr/?hl=fr&sl=auto&tl=en&op=translate\",# url de l'UI de traduction d'expressions\n",
    "                  \"source\":\"//textarea\",                                                 # case de saisie du texte à traduire\n",
    "                  \"result\":\"//span[@jsname='W297wb']\",                                   # balise contenant le texte traduit\n",
    "                  \"limit\":5000                                                           # nombre maximum de caractères traduisables\n",
    "                  },\n",
    "        # Traduction de documents\n",
    "        \"doc\": { \"link\":\"https://translate.google.fr/?hl=fr&sl=auto&tl=en&op=docs\",                   # url de l'UI de traduction de documents\n",
    "                 \"button\":\"//div[@class='ld4Jde']/button\",                                            # bouton \"Traduire\"\n",
    "                 \"file\" : \"//input[@id='i34']\",                                                       # input menant au fichier à traduire\n",
    "                 \"result\": \"//tbody\",                                                                 # balise contenant le texte traduit\n",
    "                 \"download\":\"//div[@class='spinner-container notranslate'][@style='display: none;']\", # pop-up \"Traduction en cours...\" masqué en fin de traduction\n",
    "                 \"limit\":1e7                                                                          # taille maximale des fichiers traduisables (10 Mo)\n",
    "                 }\n",
    "}\n",
    "\n",
    "# Ouverture de Selenium\n",
    "chrome = webdriver.Chrome(executable_path=\"./chromedriver.exe.\")\n",
    "chrome.get(google[\"doc\"][\"link\"]) # Accepter les cookies avant d'exécuter les cellules suivantes"
   ]
  },
  {
   "cell_type": "markdown",
   "metadata": {},
   "source": [
    "## 2. Fonctions de traduction"
   ]
  },
  {
   "cell_type": "code",
   "execution_count": 3,
   "metadata": {},
   "outputs": [],
   "source": [
    "def find_sep(s,i,sep=\" \"):\n",
    "    \"\"\"\n",
    "    Trouver l'indice du caractère sep entre 0 et i\n",
    "    (recherche effectuée à rebours i->0)\n",
    "\n",
    "    Args:\n",
    "        s: chaîne de caractères \n",
    "        i: indice de fin de recherche\n",
    "        sep: caractère à rechercher\n",
    "        \n",
    "    Returns \n",
    "        indice de l'espace entre 0 et i\n",
    "    \"\"\"\n",
    "    if i<=len(s)-1:\n",
    "        ind = s[0:i+1].rfind(sep)\n",
    "        if ind!=-1:\n",
    "            return ind\n",
    "    return i"
   ]
  },
  {
   "cell_type": "code",
   "execution_count": 8,
   "metadata": {},
   "outputs": [],
   "source": [
    "def JAP_to_ENG(s,driver,site=google,tempo=1500,max_try=3,sep=\" \",mode=\"text\",click=False):\n",
    "    \"\"\"\n",
    "    Traduction d'une chaîne de caractères japonaises en anglais\n",
    "    \n",
    "    Args:\n",
    "        s: chaîne de caractères japonais à traduire\n",
    "        driver: navigateur commandée par sélénium\n",
    "        tempo: temps d'attente maximum\n",
    "        site: dictionnaire contenant les infos du site de traduction\n",
    "        max_try: nombre d'essais restant\n",
    "        sep: séparteur scindant une chaine de caractère trop longue\n",
    "        mode: choix du mode de traduction\n",
    "        click: défilement manuel des fichiers\n",
    "    \n",
    "    Return:\n",
    "        chaîne de caractères traduite en anglais\n",
    "    \"\"\"\n",
    "    taille=len(s)\n",
    "    try:\n",
    "        # Traduction de documents (.xslx)\n",
    "        if mode==\"doc\":\n",
    "            driver.get(site[\"doc\"][\"link\"])\n",
    "            file = driver.find_element_by_xpath(site[\"doc\"][\"file\"])\n",
    "            file.send_keys(s)\n",
    "            button = driver.find_element_by_xpath(site[\"doc\"][\"button\"])\n",
    "            button.click()\n",
    "            if click:\n",
    "                input(\"Lancer la récup de la traduction :\")\n",
    "            else:\n",
    "                WebDriverWait(driver,tempo).until(EC.presence_of_element_located((By.XPATH, site[\"doc\"][\"download\"])))\n",
    "                driver.implicitly_wait(5)\n",
    "            return driver.find_element_by_xpath(site[\"doc\"][\"result\"]).text\n",
    "\n",
    "        # Traduction direct du texte (str)\n",
    "        elif mode==\"text\":\n",
    "            driver.get(site[\"text\"][\"link\"])\n",
    "            saisie = driver.find_element_by_xpath(site[\"text\"][\"source\"])\n",
    "            if taille<=site[\"text\"][\"limit\"]:\n",
    "                saisie.send_keys(s)\n",
    "            else:\n",
    "                space = find_sep(s,site[\"text\"][\"limit\"],sep)\n",
    "                saisie.send_keys(s[0:space])\n",
    "            WebDriverWait(driver,tempo).until(EC.presence_of_element_located((By.XPATH, site[\"text\"][\"result\"])))\n",
    "            traduction = chrome.find_element_by_xpath(site[\"text\"][\"result\"]).text\n",
    "            if taille>site[\"text\"][\"limit\"]:\n",
    "                return traduction +sep+ JAP_to_ENG(s[space+1:],driver,tempo,site,max_try,sep)\n",
    "            return traduction\n",
    "\n",
    "    except:\n",
    "        if max_try>1:\n",
    "            return JAP_to_ENG(s,driver,tempo,site,max_try-1,sep,mode,click)\n",
    "        return s"
   ]
  },
  {
   "cell_type": "code",
   "execution_count": 5,
   "metadata": {},
   "outputs": [],
   "source": [
    "def split_doc(f,limit,ext=\".xlsx\"):\n",
    "    \"\"\"\n",
    "    Séparation d'un ficier f en plusieurs fichiers\n",
    "\n",
    "    Args:\n",
    "        f: nom du fichier à scinder en deux\n",
    "        limit: taille maximale par fichier\n",
    "        ext: extension de f\n",
    "\n",
    "    Returns:\n",
    "        liste des noms des fichiers générés\n",
    "    \"\"\"\n",
    "    if ext==\".xlsx\":\n",
    "        data = pd.read_excel(f)\n",
    "        n = round(os.path.getsize(f)/(0.95*limit))\n",
    "        name = f.replace(ext,\"\")\n",
    "        taille = len(data)\n",
    "        idx = [i for i in range(0,taille,round(taille/n))]+[taille]\n",
    "        files = []\n",
    "        for i in range(n):\n",
    "            files.append(\"{}{}{}\".format(name,i+1,ext))\n",
    "            data.iloc[idx[i]:idx[i+1]].to_excel(\"{}{}{}\".format(name,i+1,ext),index=False)\n",
    "        os.remove(f)\n",
    "        return files\n",
    "    return \"Extension saisie non valide\""
   ]
  },
  {
   "cell_type": "code",
   "execution_count": 6,
   "metadata": {},
   "outputs": [],
   "source": [
    "def translate_var(df,var,driver,Set=None,site=google,path=\"C:\\\\Users\\\\lcpla\\\\Documents\\\\Collège de France\\\\\",click=False,to_save=False):\n",
    "    \"\"\"\n",
    "    Traduction d'une colonne d'un dataframe\n",
    "\n",
    "    Args:\n",
    "        df: dataframe contenant les textes à traduire\n",
    "        var: nom de la variable de df à traduire\n",
    "        driver: navigateur commandée par sélénium\n",
    "        Set: nom du dataframe\n",
    "        site: dictionnaire contenant les infos associés au site de traduction\n",
    "        path: chemin menant au dossier stockant les fichiers à traduire\n",
    "        click: défilement manuel des fichiers\n",
    "        to_save: sauvegarde des traductions\n",
    "\n",
    "    Return:\n",
    "        variable traduite\n",
    "    \"\"\"\n",
    "    if type(df)==type(pd.DataFrame()):\n",
    "        f=\"data/traduction/{}.xlsx\".format(var)\n",
    "        data = pd.DataFrame({\"index\":[\"@\" for i in range(len(df))],var:df[var]})\n",
    "        data.to_excel(f,index=False)\n",
    "    elif type(df)==str:\n",
    "        f=df\n",
    "\n",
    "    # Lancement de la traduction\n",
    "    if os.path.getsize(f)<=site[\"doc\"][\"limit\"]:\n",
    "        driver.get(site[\"doc\"][\"link\"])\n",
    "        traduction = JAP_to_ENG(path+f.replace(\"/\",\"\\\\\"),driver,mode=\"doc\",click=click)\n",
    "        traduction = traduction.replace('index '+var,\"\").strip().split(\"\\n\")\n",
    "        traduction = pd.Series(traduction,name=var).str.strip(\"@\").str.strip().replace({\"\":np.nan})\n",
    "        os.remove(f)\n",
    "    else:\n",
    "        files = split_doc(f,site[\"doc\"][\"limit\"])\n",
    "        traduction = [translate_var(x,var,driver,site,path=path,to_save=False,click=click).to_list() for x in files]\n",
    "        traduction = pd.Series(pd.Series(traduction).sum(),name=var)\n",
    "\n",
    "    # Enregistrement des traductions\n",
    "    if to_save:\n",
    "        if Set+\"_trad.csv\" in os.listdir(\"data/traduction\"):\n",
    "            trad = pd.read_csv(\"data/traduction/{}_trad.csv\".format(Set))\n",
    "            trad[var] = traduction\n",
    "            trad.to_csv(\"data/traduction/{}_trad.csv\".format(Set),index=False)\n",
    "        else:\n",
    "            traduction.to_csv(\"data/traduction/{}_trad.csv\".format(Set),index=False)\n",
    "    return traduction"
   ]
  },
  {
   "cell_type": "markdown",
   "metadata": {},
   "source": [
    "## 3. Lancement de la traduction"
   ]
  },
  {
   "cell_type": "code",
   "execution_count": 60,
   "metadata": {},
   "outputs": [
    {
     "name": "stdout",
     "output_type": "stream",
     "text": [
      "Temps d'exécution: 00h 27min 12s\n",
      "Nb NaN:  0\n"
     ]
    },
    {
     "data": {
      "text/plain": [
       "0         Sankyo Aluminum M. Shade 2 Beam-standing type ...\n",
       "1         [40% OFF SALE / Sale] 30s-40s Fashion Coordina...\n",
       "2         Geta paulownia Made in Japan Women's TONE Nose...\n",
       "3         \\ Limited time [1000 yen OFF] Coupon issuance ...\n",
       "4         Post Mailbox Mailbox Post for multi-family hou...\n",
       "                                ...                        \n",
       "212115    Cactus Fashionable group planting Animal Cactu...\n",
       "212116    [Cash on delivery not possible] [Andmore] Bi-f...\n",
       "212117            Love Sam Cotton Flared Skirt XS Off Beige\n",
       "212118    Wall storage Living thin [Free shipping] \"Seis...\n",
       "212119         Women's jacket ANTIBALLISTIC CYG2354 EE3 J27\n",
       "Name: item_name, Length: 212120, dtype: object"
      ]
     },
     "execution_count": 60,
     "metadata": {},
     "output_type": "execute_result"
    }
   ],
   "source": [
    "start=time.time()\n",
    "t=translate_var(train,\"item_name\",chrome,\"train\",to_save=False)\n",
    "print(time.strftime('Temps d\\'exécution: %Hh %Mmin %Ss', time.gmtime(time.time()-start)))\n",
    "print(\"Nb NaN: \",t.isna().sum())\n",
    "t"
   ]
  },
  {
   "cell_type": "code",
   "execution_count": 9,
   "metadata": {},
   "outputs": [
    {
     "name": "stdout",
     "output_type": "stream",
     "text": [
      "Temps d'exécution: 00h 24min 17s\n",
      "Nb NaN:  23974\n"
     ]
    },
    {
     "data": {
      "text/plain": [
       "0         Item No. 19235601 Manufacturer Sankyo Aluminum...\n",
       "1         Increased presence with a thick sash belt Uses...\n",
       "2         Item Paulownia clogs * Yukata, half-width obi ...\n",
       "3         ■ Product Description Louver shoe box 60 width...\n",
       "4         Posts for apartments Variable push locks Colle...\n",
       "                                ...                        \n",
       "212115                                                  NaN\n",
       "212116    [Caution] * Cash on delivery is not accepted a...\n",
       "212117    Product name Love Sam Cotton flared skirt Colo...\n",
       "212118    [Cash on delivery is not possible] This item i...\n",
       "212119    [ANTIBAL LISTIC] Lady's jacket. Introducing a ...\n",
       "Name: item_caption, Length: 212120, dtype: object"
      ]
     },
     "execution_count": 9,
     "metadata": {},
     "output_type": "execute_result"
    }
   ],
   "source": [
    "start=time.time()\n",
    "t=translate_var(train,\"item_caption\",chrome,\"train\",to_save=False)\n",
    "print(time.strftime('Temps d\\'exécution: %Hh %Mmin %Ss', time.gmtime(time.time()-start)))\n",
    "print(\"Nb NaN: \",t.isna().sum())\n",
    "t"
   ]
  },
  {
   "cell_type": "code",
   "execution_count": 9,
   "metadata": {},
   "outputs": [
    {
     "name": "stdout",
     "output_type": "stream",
     "text": [
      "Temps d'exécution: 00h 01min 58s\n",
      "Nb NaN:  0\n"
     ]
    },
    {
     "data": {
      "text/plain": [
       "0        KYV39 miraie f Miraie Forte kyv39 au AU Smartp...\n",
       "1        SO-04K Xperia XZ2 Premium Xperia XZ2 Premium d...\n",
       "2        MO-01K MONO Mono mo01k docomo DoCoMo notebook ...\n",
       "3        Xperia XZ Notebook Type Case Beach Hawaii Expe...\n",
       "4        [Used] COMME CA DU MODE Skirt Bomb Toss Long L...\n",
       "                               ...                        \n",
       "37342    Acrylic EX board White opaque Thickness 2mm 90...\n",
       "37343    1-piece genuine leather men's shoes 25.5cm win...\n",
       "37344    Glitter ribbon open toe pumps wedding shoes dr...\n",
       "37345    [Used] French Army WAREIN 80's Inner Coat Line...\n",
       "37346    nano UNIVERSE (Men's) Nano Universe Shorts Men...\n",
       "Length: 37347, dtype: object"
      ]
     },
     "execution_count": 9,
     "metadata": {},
     "output_type": "execute_result"
    }
   ],
   "source": [
    "start=time.time()\n",
    "t=translate_var(test,\"item_name\",chrome,\"test\",to_save=False)\n",
    "print(time.strftime('Temps d\\'exécution: %Hh %Mmin %Ss', time.gmtime(time.time()-start)))\n",
    "print(\"Nb NaN: \",t.isna().sum())\n",
    "t"
   ]
  },
  {
   "cell_type": "code",
   "execution_count": 10,
   "metadata": {},
   "outputs": [
    {
     "name": "stdout",
     "output_type": "stream",
     "text": [
      "Temps d'exécution: 00h 04min 18s\n",
      "Nb NaN:  4254\n"
     ]
    },
    {
     "data": {
      "text/plain": [
       "0        Precautions Depending on the arrival time of t...\n",
       "1        Precautions Depending on the arrival time of t...\n",
       "2        Product features-Seamless full-scale design (c...\n",
       "3        Compatible model Xperia XZ (Xperia) Sony compa...\n",
       "4        [Used] COMME CA DU MODE Skirt Bomb Toss Long L...\n",
       "                               ...                        \n",
       "37342    Product Description Material Acrylic resin (co...\n",
       "37343    Brand & nbsp; ARAGIN Aladdin & nbsp; Product d...\n",
       "37344    Simple and elegant, it creates a higher-grade ...\n",
       "37345    [Used] French Army WAREIN 80's Inner Coat Line...\n",
       "37346                                                  NaN\n",
       "Name: item_caption, Length: 37347, dtype: object"
      ]
     },
     "execution_count": 10,
     "metadata": {},
     "output_type": "execute_result"
    }
   ],
   "source": [
    "start=time.time()\n",
    "t=translate_var(test,\"item_caption\",chrome,\"test\",to_save=False)\n",
    "print(time.strftime('Temps d\\'exécution: %Hh %Mmin %Ss', time.gmtime(time.time()-start)))\n",
    "print(\"Nb NaN: \",t.isna().sum())\n",
    "t"
   ]
  },
  {
   "cell_type": "markdown",
   "metadata": {},
   "source": [
    "## 4. Exploration des traductions"
   ]
  },
  {
   "cell_type": "code",
   "execution_count": 28,
   "metadata": {},
   "outputs": [
    {
     "name": "stdout",
     "output_type": "stream",
     "text": [
      "Color_tags possibles:  ['silver', 'grey', 'black', 'brown', 'white', 'beige', 'multiple colors', 'gold', 'yellow', 'orange', 'pink', 'red', 'purple', 'green', 'blue', 'navy', 'khaki', 'burgundy', 'transparent']\n",
      "Temps d'exécution: 00h 21min 30s\n"
     ]
    },
    {
     "data": {
      "text/html": "<div>\n<style scoped>\n    .dataframe tbody tr th:only-of-type {\n        vertical-align: middle;\n    }\n\n    .dataframe tbody tr th {\n        vertical-align: top;\n    }\n\n    .dataframe thead th {\n        text-align: right;\n    }\n</style>\n<table border=\"1\" class=\"dataframe\">\n  <thead>\n    <tr style=\"text-align: right;\">\n      <th></th>\n      <th>item_name</th>\n      <th>item_caption</th>\n      <th>color_tags</th>\n      <th>item_description</th>\n    </tr>\n  </thead>\n  <tbody>\n    <tr>\n      <th>0</th>\n      <td>sankyo aluminum m. shade 2 beam-standing type ...</td>\n      <td>item no. 19235601 manufacturer sankyo aluminum...</td>\n      <td>{grey, black, silver}</td>\n      <td>{item, beamstanding, snowfall, carport, do, wi...</td>\n    </tr>\n    <tr>\n      <th>1</th>\n      <td>[40% off sale / sale] 30s-40s fashion coordina...</td>\n      <td>increased presence with a thick sash belt uses...</td>\n      <td>{black, brown}</td>\n      <td>{color, horse, belt, ss, origin, such, size, f...</td>\n    </tr>\n    <tr>\n      <th>2</th>\n      <td>geta paulownia made in japan women's tone nose...</td>\n      <td>item paulownia clogs * yukata, half-width obi ...</td>\n      <td>{white, black}</td>\n      <td>{item, photo, texture, or, freight, color, pat...</td>\n    </tr>\n    <tr>\n      <th>3</th>\n      <td>\\ limited time [1000 yen off] coupon issuance ...</td>\n      <td>■ product description louver shoe box 60 width...</td>\n      <td>{black, brown, beige}</td>\n      <td>{or, color, outer, you, sizes, origin, availab...</td>\n    </tr>\n    <tr>\n      <th>4</th>\n      <td>post mailbox mailbox post for multi-family hou...</td>\n      <td>post for apartments variable push locks collec...</td>\n      <td>{silver}</td>\n      <td>{item, eg, color, kg, you, contents, apartment...</td>\n    </tr>\n  </tbody>\n</table>\n</div>",
      "text/plain": [
       "                                           item_name  \\\n",
       "0  sankyo aluminum m. shade 2 beam-standing type ...   \n",
       "1  [40% off sale / sale] 30s-40s fashion coordina...   \n",
       "2  geta paulownia made in japan women's tone nose...   \n",
       "3  \\ limited time [1000 yen off] coupon issuance ...   \n",
       "4  post mailbox mailbox post for multi-family hou...   \n",
       "\n",
       "                                        item_caption             color_tags  \\\n",
       "0  item no. 19235601 manufacturer sankyo aluminum...  {grey, black, silver}   \n",
       "1  increased presence with a thick sash belt uses...         {black, brown}   \n",
       "2  item paulownia clogs * yukata, half-width obi ...         {white, black}   \n",
       "3  ■ product description louver shoe box 60 width...  {black, brown, beige}   \n",
       "4  post for apartments variable push locks collec...               {silver}   \n",
       "\n",
       "                                    item_description  \n",
       "0  {item, beamstanding, snowfall, carport, do, wi...  \n",
       "1  {color, horse, belt, ss, origin, such, size, f...  \n",
       "2  {item, photo, texture, or, freight, color, pat...  \n",
       "3  {or, color, outer, you, sizes, origin, availab...  \n",
       "4  {item, eg, color, kg, you, contents, apartment...  "
      ]
     },
     "execution_count": 28,
     "metadata": {},
     "output_type": "execute_result"
    }
   ],
   "source": [
    "start=time.time()\n",
    "train_trad = pd.read_csv(\"data/traduction/train_trad.csv\")\n",
    "test_trad = pd.read_csv(\"data/traduction/test_trad.csv\")\n",
    "colors = pd.read_csv(\"data/y_train.csv\")\n",
    "\n",
    "# Suppression des majuscules\n",
    "train_trad[\"color_tags\"] = colors.color_tags\n",
    "train_trad = train_trad.fillna('').apply(lambda x: x.str.lower())\n",
    "test_trad = test_trad.fillna('').apply(lambda x: x.str.lower())\n",
    "\n",
    "# Récupération des color tags\n",
    "train_trad.color_tags = train_trad.color_tags.str.strip(\"[]'\").str.split(\"', '\")\n",
    "colors = list(pd.Series(train_trad.color_tags.sum()).unique())\n",
    "print(\"Color_tags possibles: \",colors)\n",
    "train_trad.color_tags = train_trad.color_tags.apply(lambda x: set(x))\n",
    "\n",
    "# Concaténations des traductions\n",
    "train_trad[\"item_description\"] = train_trad.item_name+\" \"+train_trad.item_caption\n",
    "test_trad[\"item_description\"] = test_trad.item_name+\" \"+test_trad.item_caption\n",
    "\n",
    "# Suppression des caractères non alphabétiques dans les concaténations\n",
    "train_trad.item_description = train_trad.item_description.apply(lambda x: ''.join(filter(lambda c: str.isalpha(c)|str.isspace(c), x)))\n",
    "test_trad.item_description = test_trad.item_description.apply(lambda x: ''.join(filter(lambda c: str.isalpha(c)|str.isspace(c), x)))\n",
    "\n",
    "# Création de sets de mots\n",
    "train_trad.item_description = train_trad.item_description.str.split(\" \").apply(lambda x: set([elt for elt in x if elt.isalpha()]))\n",
    "test_trad.item_description = test_trad.item_description.str.split(\" \").apply(lambda x: set([elt for elt in x if elt.isalpha()]))\n",
    "print(time.strftime('Temps d\\'exécution: %Hh %Mmin %Ss', time.gmtime(time.time()-start)))\n",
    "\n",
    "train_trad.head()"
   ]
  },
  {
   "cell_type": "markdown",
   "metadata": {},
   "source": [
    "### 4.1 Recherche de color_tags "
   ]
  },
  {
   "cell_type": "code",
   "execution_count": 27,
   "metadata": {},
   "outputs": [
    {
     "data": {
      "text/html": "<div>\n<style scoped>\n    .dataframe tbody tr th:only-of-type {\n        vertical-align: middle;\n    }\n\n    .dataframe tbody tr th {\n        vertical-align: top;\n    }\n\n    .dataframe thead th {\n        text-align: right;\n    }\n</style>\n<table border=\"1\" class=\"dataframe\">\n  <thead>\n    <tr style=\"text-align: right;\">\n      <th></th>\n      <th>Set</th>\n      <th>Présence de tags (%)</th>\n      <th>Presence des 'bon' tags (%)</th>\n      <th>Présence de tous les 'bon' tags (%)</th>\n    </tr>\n  </thead>\n  <tbody>\n    <tr>\n      <th>0</th>\n      <td>Train</td>\n      <td>64.714784</td>\n      <td>56.661795</td>\n      <td>43.436734</td>\n    </tr>\n    <tr>\n      <th>1</th>\n      <td>Test</td>\n      <td>64.548692</td>\n      <td>NaN</td>\n      <td>NaN</td>\n    </tr>\n  </tbody>\n</table>\n</div>",
      "text/plain": [
       "     Set  Présence de tags (%)  Presence des 'bon' tags (%)  \\\n",
       "0  Train             64.714784                    56.661795   \n",
       "1   Test             64.548692                          NaN   \n",
       "\n",
       "   Présence de tous les 'bon' tags (%)  \n",
       "0                            43.436734  \n",
       "1                                  NaN  "
      ]
     },
     "execution_count": 27,
     "metadata": {},
     "output_type": "execute_result"
    }
   ],
   "source": [
    "colors_set = pd.Series([set(colors)]*len(train))\n",
    "df=pd.DataFrame({\"Set\":[\"Train\",\"Test\"],\n",
    "    \"Présence de tags (%)\":[100*(train_trad.item_description&colors_set).sum()/len(train),\n",
    "                            100*(test_trad.item_description&colors_set).sum()/len(test)],\n",
    "    \"Presence des 'bon' tags (%)\": [100*(train_trad.color_tags & train_trad.item_description).sum()/len(train),np.NaN],\n",
    "    \"Présence de tous les 'bon' tags (%)\":[100*((train_trad.color_tags - train_trad.item_description).apply(len)==0).sum()/len(train),np.nan]})\n",
    "df"
   ]
  },
  {
   "cell_type": "markdown",
   "metadata": {},
   "source": [
    "- Données d'apprentissage:  \n",
    "Près de 65% des articles ont au moins un tags de couleurs dans leur descirption ou leur nom\n",
    "Près de 57% des articles ont au moins un tag appartenant réellement à leur liste color_tags dans leur descirption ou leur nom\n",
    "Près de 43% des articles ont la totalité de leur liste color_tags dans leur descirption ou leur nom\n",
    "\n",
    "- Données de test:  \n",
    "Près de 65% des articles ont au moins un tags de couleurs dans leur descirption ou leur nom\n",
    "\n",
    "La description ou le nom de d'un article peuvent contenir des tags n'appartenant pas à ses color_tags ou ne contenir qu'une partie."
   ]
  }
 ],
 "metadata": {
  "kernelspec": {
   "display_name": "Python 3",
   "language": "python",
   "name": "python3"
  },
  "language_info": {
   "codemirror_mode": {
    "name": "ipython",
    "version": 3
   },
   "file_extension": ".py",
   "mimetype": "text/x-python",
   "name": "python",
   "nbconvert_exporter": "python",
   "pygments_lexer": "ipython3",
   "version": "3.8.5"
  },
  "orig_nbformat": 2
 },
 "nbformat": 4,
 "nbformat_minor": 2
}